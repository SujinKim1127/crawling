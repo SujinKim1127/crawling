{
 "cells": [
  {
   "cell_type": "code",
   "execution_count": 1,
   "metadata": {},
   "outputs": [
    {
     "name": "stdout",
     "output_type": "stream",
     "text": [
      "Requirement already satisfied: openpyxl in c:\\users\\82108\\anaconda3\\lib\\site-packages (3.0.5)\n",
      "Requirement already satisfied: et-xmlfile in c:\\users\\82108\\anaconda3\\lib\\site-packages (from openpyxl) (1.0.1)\n",
      "Requirement already satisfied: jdcal in c:\\users\\82108\\anaconda3\\lib\\site-packages (from openpyxl) (1.4.1)\n",
      "Note: you may need to restart the kernel to use updated packages.\n"
     ]
    }
   ],
   "source": [
    "pip install openpyxl"
   ]
  },
  {
   "cell_type": "code",
   "execution_count": 6,
   "metadata": {},
   "outputs": [],
   "source": [
    "import requests\n",
    "from bs4 import BeautifulSoup\n",
    "import openpyxl\n",
    "\n",
    "# 2. Workbook 생성\n",
    "wb = openpyxl.Workbook()\n",
    "\n",
    "# 3. Sheet 활성\n",
    "sheet = wb.active\n",
    "\n",
    "# 4. 데이터프레임 내 header(변수명)생성\n",
    "sheet.append([\"name\", \"mapAddress\", \"operationTime\", \"tel\", \"homepage\", \"category\"])\n",
    "\n",
    "# 5. 데이터 크롤링 과정\n",
    "raw = requests.get(\"\")\n",
    "html = BeautifulSoup(raw.text, 'html.parser')\n",
    "\n",
    "container = html.select(\"div.inner\")\n",
    "\n",
    "for con in container:\n",
    "    a = con.select_one(\"span.Fc1rA\").text.strip() # name\n",
    "    b = con.select_one(\"span.LDgIH\").text.strip() # mapAddress\n",
    "    c = con.select_one(\"div.H3ua4\").text.strip() # operationTime\n",
    "    d = con.select_one(\"span.xlx7Q\").text.strip() # tel\n",
    "    e = con.select_one(\"a.CHmqa\").text.strip() # homepage\n",
    "    f = con.select_one(\"span.DJJvD\").text.strip() # category\n",
    "    \n",
    "    # sheet 내 각 행에 데이터 추가\n",
    "    sheet.append([a, b,c,d,e,f])\n",
    "\n",
    "\n",
    "# 6. 수집한 데이터 저장\n",
    "wb.save(\"naver_map.xlsx\")"
   ]
  },
  {
   "cell_type": "code",
   "execution_count": 13,
   "metadata": {},
   "outputs": [
    {
     "data": {
      "text/plain": [
       "<html>\n",
       "<head><title>404 Not Found</title></head>\n",
       "<body>\n",
       "<center><h1>404 Not Found</h1></center>\n",
       "<hr/><center>nginx</center>\n",
       "</body>\n",
       "</html>"
      ]
     },
     "execution_count": 13,
     "metadata": {},
     "output_type": "execute_result"
    }
   ],
   "source": [
    "import requests\n",
    "from bs4 import BeautifulSoup\n",
    "import openpyxl\n",
    "\n",
    "# 2. Workbook 생성\n",
    "wb = openpyxl.Workbook()\n",
    "\n",
    "# 3. Sheet 활성\n",
    "sheet = wb.active\n",
    "\n",
    "# 4. 데이터프레임 내 header(변수명)생성\n",
    "sheet.append([\"name\", \"mapAddress\", \"operationTime\", \"tel\", \"homepage\", \"category\"])\n",
    "\n",
    "# 5. 데이터 크롤링 과정\n",
    "main = requests.get(\"https://m.map.naver.com/search2/search.naver?query=%EC%95%A0%EA%B2%AC%EB%8F%99%EB%B0%98%EC%B9%B4%ED%8E%98&sm=hty&style=v5\")\n",
    "map_list = BeautifulSoup(main.content, 'html.parser', from_encoding='utf=8')\n",
    "map_list"
   ]
  },
  {
   "cell_type": "code",
   "execution_count": 18,
   "metadata": {},
   "outputs": [],
   "source": [
    "wb = openpyxl.Workbook()\n",
    "\n",
    "# 3. Sheet 활성\n",
    "sheet = wb.active\n",
    "\n",
    "# 4. 데이터프레임 내 header(변수명)생성\n",
    "sheet.append([\"제목\", \"채널명\", \"조회수\", \"좋아요수\"])\n",
    "\n",
    "# 5. 데이터 크롤링 과정\n",
    "raw = requests.get(\"https://tv.naver.com/r\")\n",
    "html = BeautifulSoup(raw.text, 'html.parser')\n",
    "\n",
    "container = html.select(\"div.inner\")\n",
    "\n",
    "for con in container:\n",
    "    t = con.select_one(\"dt.title\").text.strip() #제목\n",
    "    c = con.select_one(\"dd.chn\").text.strip() #채널\n",
    "    h = con.select_one(\"span.hit\").text.strip() #조회수\n",
    "    l = con.select_one(\"span.like\").text.strip() #좋아요수\n",
    "    \n",
    "    # sheet 내 각 행에 데이터 추가\n",
    "    sheet.append([t, c, h, l])\n",
    "\n",
    "\n",
    "# 6. 수집한 데이터 저장\n",
    "wb.save(\"naver_tv.xlsx\")"
   ]
  },
  {
   "cell_type": "code",
   "execution_count": 22,
   "metadata": {},
   "outputs": [
    {
     "data": {
      "text/plain": [
       "[<div class=\"inner\">\n",
       " <a class=\"box\" data-anisrc=\"https://phinf.pstatic.net/tvcast/20230122_82/Rey54_16743501564089zPRl_GIF/95b79452-99e5-11ed-9e99-d4f5ef04d846.gif?type=mfullfill_406_228_ani_limit15\" href=\"https://tv.naver.com/v/32554342/list/67096\" onclick=\"clickcr(this, 'top.3clip', '', '1', event)\">\n",
       " <span class=\"mask _top_ani_area\"></span>\n",
       " <img alt=\"[4화 선공개] 정경호, 만취 흑역사 만든 전도연 놀려먹기 대유잼🤣\" data-src=\"https://phinf.pstatic.net/tvcast/20230122_207/MwuwR_1674344792232ubFKd_JPEG/383bf17c-edcf-448e-a8e2-48f875bd2129_B.jpg?type=f406_228_blend\" onerror='this.src=\"https://phinf.pstatic.net/tvcast/20161227_263/photoinfra_1482831787654EeESz_PNG/default_clip.png?type=f406_228\"' src=\"https://phinf.pstatic.net/tvcast/20230122_207/MwuwR_1674344792232ubFKd_JPEG/383bf17c-edcf-448e-a8e2-48f875bd2129_B.jpg?type=f406_228_blend\"/>\n",
       " <img alt=\"임시 이미지\" class=\"_ani_img\" src=\"https://ssl.pstatic.net/img.tvcast/pc/img/bg_blank.png\" style=\"position:absolute; left:0px; top:0px; opacity:0\"/>\n",
       " <em class=\"time\"><span class=\"blind\">재생시간</span>2:48</em>\n",
       " <span class=\"btn_my _click\" data-clipno=\"32554342\" data-event=\"addWatchLater\" data-login=\"false\" onclick=\"clickcr(this, 'top.3add', '', '1', '');\">담기</span>\n",
       " </a>\n",
       " <div class=\"info\">\n",
       " <span class=\"num num1\">1</span>\n",
       " <span class=\"rank keep\"><span class=\"blind\">유지</span><em></em></span>\n",
       " <dl class=\"cds_info\">\n",
       " <dt class=\"title\">\n",
       " <a href=\"https://tv.naver.com/v/32554342\" onclick=\"clickcr(this, 'top.3clip', '', '1', event)\">\n",
       " <strong class=\"tit\"><span>[4화 선공개] 정경호, 만취 흑역사 만든 전도연 놀려먹기 대유잼🤣</span></strong>\n",
       " </a>\n",
       " </dt>\n",
       " <dd class=\"chn\">\n",
       " <a class=\"ch\" href=\"https://tv.naver.com/cjenm.crashcourseinromance\" onclick=\"clickcr(this, 'top.3chtitle', '', '1', event)\">일타 스캔들</a>\n",
       " </dd>\n",
       " <dd class=\"meta\">\n",
       " <span class=\"hit\"><span class=\"blind\">재생 수</span>101,592</span>\n",
       " <span class=\"like\"><span class=\"blind\">좋아요 수</span>785</span>\n",
       " </dd>\n",
       " </dl>\n",
       " </div>\n",
       " </div>,\n",
       " <div class=\"inner\">\n",
       " <a class=\"box\" data-anisrc=\"https://phinf.pstatic.net/tvcast/20230122_62/oaPZe_1674354692442cazuM_GIF/b081d5af-999c-11ed-978e-d4f5ef0e4144.gif?type=mfullfill_406_228_ani_limit15\" href=\"https://tv.naver.com/v/32552304/list/67096\" onclick=\"clickcr(this, 'top.3clip', '', '2', event)\">\n",
       " <span class=\"mask _top_ani_area\"></span>\n",
       " <img alt=\"[#캐나다체크인] ＂마지막 인사 한 것 같아＂ 이효리, 제일 보고 싶었던 토미와의 만남 #highlight\" data-src=\"https://phinf.pstatic.net/tvcast/20230122_99/ZkymQ_1674354692148v2UXI_JPEG/451d6920-e0ae-4a5c-8145-c9eae30bdb81_B.jpg?type=f406_228_blend\" onerror='this.src=\"https://phinf.pstatic.net/tvcast/20161227_263/photoinfra_1482831787654EeESz_PNG/default_clip.png?type=f406_228\"' src=\"https://phinf.pstatic.net/tvcast/20230122_99/ZkymQ_1674354692148v2UXI_JPEG/451d6920-e0ae-4a5c-8145-c9eae30bdb81_B.jpg?type=f406_228_blend\"/>\n",
       " <img alt=\"임시 이미지\" class=\"_ani_img\" src=\"https://ssl.pstatic.net/img.tvcast/pc/img/bg_blank.png\" style=\"position:absolute; left:0px; top:0px; opacity:0\"/>\n",
       " <em class=\"time\"><span class=\"blind\">재생시간</span>17:40</em>\n",
       " <span class=\"btn_my _click\" data-clipno=\"32552304\" data-event=\"addWatchLater\" data-login=\"false\" onclick=\"clickcr(this, 'top.3add', '', '2', '');\">담기</span>\n",
       " </a>\n",
       " <div class=\"info\">\n",
       " <span class=\"num num2\">2</span>\n",
       " <span class=\"rank keep\"><span class=\"blind\">유지</span><em></em></span>\n",
       " <dl class=\"cds_info\">\n",
       " <dt class=\"title\">\n",
       " <a href=\"https://tv.naver.com/v/32552304\" onclick=\"clickcr(this, 'top.3clip', '', '2', event)\">\n",
       " <strong class=\"tit\"><span>[#캐나다체크인] ＂마지막 인사 한 것 같아＂ 이효리, 제일 보고 싶었던 토미와의 만남 #highlight</span></strong>\n",
       " </a>\n",
       " </dt>\n",
       " <dd class=\"chn\">\n",
       " <a class=\"ch\" href=\"https://tv.naver.com/cjenm.CanadaCheckIn\" onclick=\"clickcr(this, 'top.3chtitle', '', '2', event)\">캐나다 체크인</a>\n",
       " </dd>\n",
       " <dd class=\"meta\">\n",
       " <span class=\"hit\"><span class=\"blind\">재생 수</span>38,481</span>\n",
       " <span class=\"like\"><span class=\"blind\">좋아요 수</span>516</span>\n",
       " </dd>\n",
       " </dl>\n",
       " </div>\n",
       " </div>,\n",
       " <div class=\"inner\">\n",
       " <a class=\"box\" data-anisrc=\"https://phinf.pstatic.net/tvcast/20230122_54/51eTe_1674376439296N4XoR_GIF/8261bd7e-9a2e-11ed-b090-48df37e2c540.gif?type=mfullfill_406_228_ani_limit15\" href=\"https://tv.naver.com/v/32557903/list/67096\" onclick=\"clickcr(this, 'top.3clip', '', '3', event)\">\n",
       " <span class=\"mask _top_ani_area\"></span>\n",
       " <img alt=\"‘미니멀 라이프 재질’ 추신수 한국 집 최초 공개!\" data-src=\"https://phinf.pstatic.net/tvcast/20230122_274/kIyIh_1674376051029XbEyS_JPEG/368cbf9b-33cb-4c21-b397-44b5a065e65b.jpg?type=f406_228_blend\" onerror='this.src=\"https://phinf.pstatic.net/tvcast/20161227_263/photoinfra_1482831787654EeESz_PNG/default_clip.png?type=f406_228\"' src=\"https://phinf.pstatic.net/tvcast/20230122_274/kIyIh_1674376051029XbEyS_JPEG/368cbf9b-33cb-4c21-b397-44b5a065e65b.jpg?type=f406_228_blend\"/>\n",
       " <img alt=\"임시 이미지\" class=\"_ani_img\" src=\"https://ssl.pstatic.net/img.tvcast/pc/img/bg_blank.png\" style=\"position:absolute; left:0px; top:0px; opacity:0\"/>\n",
       " <em class=\"time\"><span class=\"blind\">재생시간</span>3:18</em>\n",
       " <span class=\"btn_my _click\" data-clipno=\"32557903\" data-event=\"addWatchLater\" data-login=\"false\" onclick=\"clickcr(this, 'top.3add', '', '3', '');\">담기</span>\n",
       " </a>\n",
       " <div class=\"info\">\n",
       " <span class=\"num num3\">3</span>\n",
       " <span class=\"rank new\"><em>NEW</em></span>\n",
       " <dl class=\"cds_info\">\n",
       " <dt class=\"title\">\n",
       " <a href=\"https://tv.naver.com/v/32557903\" onclick=\"clickcr(this, 'top.3clip', '', '3', event)\">\n",
       " <strong class=\"tit\"><span>‘미니멀 라이프 재질’ 추신수 한국 집 최초 공개!</span></strong>\n",
       " </a>\n",
       " </dt>\n",
       " <dd class=\"chn\">\n",
       " <a class=\"ch\" href=\"https://tv.naver.com/sbs.2023house\" onclick=\"clickcr(this, 'top.3chtitle', '', '3', event)\">집사부일체 2</a>\n",
       " </dd>\n",
       " <dd class=\"meta\">\n",
       " <span class=\"hit\"><span class=\"blind\">재생 수</span>5,925</span>\n",
       " <span class=\"like\"><span class=\"blind\">좋아요 수</span>13</span>\n",
       " </dd>\n",
       " </dl>\n",
       " </div>\n",
       " </div>]"
      ]
     },
     "execution_count": 22,
     "metadata": {},
     "output_type": "execute_result"
    }
   ],
   "source": [
    "wb = openpyxl.Workbook()\n",
    "\n",
    "# 3. Sheet 활성\n",
    "sheet = wb.active\n",
    "\n",
    "# 4. 데이터프레임 내 header(변수명)생성\n",
    "sheet.append([\"제목\", \"채널명\", \"조회수\", \"좋아요수\"])\n",
    "\n",
    "# 5. 데이터 크롤링 과정\n",
    "raw = requests.get(\"https://tv.naver.com/r\")\n",
    "html = BeautifulSoup(raw.text, 'html.parser')\n",
    "\n",
    "container = html.select(\"div.inner\")\n",
    "container"
   ]
  },
  {
   "cell_type": "code",
   "execution_count": 19,
   "metadata": {},
   "outputs": [],
   "source": [
    "wb = openpyxl.Workbook()\n",
    "\n",
    "# 3. Sheet 활성\n",
    "sheet = wb.active\n",
    "\n",
    "# 4. 데이터프레임 내 header(변수명)생성\n",
    "sheet.append([\"제목\", \"주최\", \"기간\", \"조회수\", \"태그\"])\n",
    "\n",
    "# 5. 데이터 크롤링 과정\n",
    "raw = requests.get(\"https://www.campuspick.com/contest?category=108\")\n",
    "html = BeautifulSoup(raw.text, 'html.parser')\n",
    "\n",
    "container = html.select(\"div.list\")\n",
    "\n",
    "for con in container:\n",
    "    t = con.select_one(\"a.top > h2\").text.strip() #제목\n",
    "    c = con.select_one(\"p.company\").text.strip() #채널\n",
    "    h = con.select_one(\"span.dday\").text.strip() # 기간\n",
    "    i = con.select_one(\"span.viewcount\").text.strip() # 조회수\n",
    "    l = con.select_one(\"p.badges\").text.strip() # 태그\n",
    "    \n",
    "    # sheet 내 각 행에 데이터 추가\n",
    "    sheet.append([t, c, h, i, l])\n",
    "\n",
    "\n",
    "# 6. 수집한 데이터 저장\n",
    "wb.save(\"campuspick.xlsx\")"
   ]
  },
  {
   "cell_type": "code",
   "execution_count": 30,
   "metadata": {},
   "outputs": [
    {
     "data": {
      "text/plain": [
       "<div data-category=\"108\" data-keyword=\"\" data-target=\"1\" data-target-name=\"공모전\" data-target-path=\"contest\" id=\"container\"></div>"
      ]
     },
     "execution_count": 30,
     "metadata": {},
     "output_type": "execute_result"
    }
   ],
   "source": [
    "from urllib.request import Request, urlopen\n",
    "from bs4 import BeautifulSoup\n",
    "\n",
    "wb = openpyxl.Workbook()\n",
    "\n",
    "# 3. Sheet 활성\n",
    "sheet = wb.active\n",
    "\n",
    "# 4. 데이터프레임 내 header(변수명)생성\n",
    "sheet.append([\"제목\", \"주최\", \"기간\", \"조회수\", \"태그\"])\n",
    "\n",
    "# 5. 데이터 크롤링 과정\n",
    "html = Request(\"https://www.campuspick.com/contest?category=108\", headers={'User-Agent': 'Mozilla/5.0'})\n",
    "readHtml = urlopen(html).read()\n",
    "bsjObject = BeautifulSoup(readHtml, 'html.parser')\n",
    "\n",
    "container = bsjObject.find('div', id=\"container\")\n",
    "container"
   ]
  },
  {
   "cell_type": "code",
   "execution_count": 32,
   "metadata": {},
   "outputs": [
    {
     "name": "stdout",
     "output_type": "stream",
     "text": [
      "Requirement already satisfied: selenium in c:\\users\\82108\\anaconda3\\lib\\site-packages (4.7.2)\n",
      "Requirement already satisfied: certifi>=2021.10.8 in c:\\users\\82108\\anaconda3\\lib\\site-packages (from selenium) (2022.12.7)\n",
      "Requirement already satisfied: trio~=0.17 in c:\\users\\82108\\anaconda3\\lib\\site-packages (from selenium) (0.22.0)\n",
      "Requirement already satisfied: urllib3[socks]~=1.26 in c:\\users\\82108\\anaconda3\\lib\\site-packages (from selenium) (1.26.14)\n",
      "Requirement already satisfied: trio-websocket~=0.9 in c:\\users\\82108\\anaconda3\\lib\\site-packages (from selenium) (0.9.2)\n",
      "Requirement already satisfied: exceptiongroup>=1.0.0rc9; python_version < \"3.11\" in c:\\users\\82108\\anaconda3\\lib\\site-packages (from trio~=0.17->selenium) (1.1.0)\n",
      "Requirement already satisfied: cffi>=1.14; os_name == \"nt\" and implementation_name != \"pypy\" in c:\\users\\82108\\anaconda3\\lib\\site-packages (from trio~=0.17->selenium) (1.14.3)\n",
      "Requirement already satisfied: sniffio in c:\\users\\82108\\anaconda3\\lib\\site-packages (from trio~=0.17->selenium) (1.3.0)\n",
      "Requirement already satisfied: sortedcontainers in c:\\users\\82108\\anaconda3\\lib\\site-packages (from trio~=0.17->selenium) (2.2.2)\n",
      "Requirement already satisfied: attrs>=19.2.0 in c:\\users\\82108\\anaconda3\\lib\\site-packages (from trio~=0.17->selenium) (20.3.0)\n",
      "Requirement already satisfied: async-generator>=1.9 in c:\\users\\82108\\anaconda3\\lib\\site-packages (from trio~=0.17->selenium) (1.10)\n",
      "Requirement already satisfied: idna in c:\\users\\82108\\anaconda3\\lib\\site-packages (from trio~=0.17->selenium) (2.10)\n",
      "Requirement already satisfied: outcome in c:\\users\\82108\\anaconda3\\lib\\site-packages (from trio~=0.17->selenium) (1.2.0)\n",
      "Requirement already satisfied: PySocks!=1.5.7,<2.0,>=1.5.6; extra == \"socks\" in c:\\users\\82108\\anaconda3\\lib\\site-packages (from urllib3[socks]~=1.26->selenium) (1.7.1)\n",
      "Requirement already satisfied: wsproto>=0.14 in c:\\users\\82108\\anaconda3\\lib\\site-packages (from trio-websocket~=0.9->selenium) (1.2.0)\n",
      "Requirement already satisfied: pycparser in c:\\users\\82108\\anaconda3\\lib\\site-packages (from cffi>=1.14; os_name == \"nt\" and implementation_name != \"pypy\"->trio~=0.17->selenium) (2.20)\n",
      "Requirement already satisfied: h11<1,>=0.9.0 in c:\\users\\82108\\anaconda3\\lib\\site-packages (from wsproto>=0.14->trio-websocket~=0.9->selenium) (0.14.0)\n"
     ]
    }
   ],
   "source": [
    "!pip install selenium"
   ]
  },
  {
   "cell_type": "code",
   "execution_count": 50,
   "metadata": {},
   "outputs": [
    {
     "name": "stderr",
     "output_type": "stream",
     "text": [
      "<ipython-input-50-928ea3906c9a>:3: DeprecationWarning: executable_path has been deprecated, please pass in a Service object\n",
      "  driver = wd.Chrome(executable_path=\"chromedriver.exe\")\n"
     ]
    }
   ],
   "source": [
    "from selenium import webdriver as wd\n",
    "import requests\n",
    "driver = wd.Chrome(executable_path=\"chromedriver.exe\")\n",
    "headers = {'User-Agent':'Mozilla/5.0 (Windows NT 10.0; Win64; x64) AppleWebKit/537.36 (KHTML, like Gecko) Chrome/109.0.0.0 Safari/537.36'}\n",
    "url = \"https://www.campuspick.com/contest?category=108\"\n",
    "response = requests.get(url, headers=headers)"
   ]
  },
  {
   "cell_type": "code",
   "execution_count": 41,
   "metadata": {},
   "outputs": [],
   "source": [
    "from bs4 import BeautifulSoup\n",
    "from urllib.request import Request, urlopen\n",
    "\n",
    "headers = {'User-Agent':'Chrome/81.0.4044.92'}\n",
    "w_url = 'https://www.campuspick.com/contest?category=108'\n",
    "w_req = Request(w_url, headers=headers)\n",
    "\n",
    "w_html = urlopen(w_req).read()\n",
    "w_soup = BeautifulSoup(w_html, 'html.parser')"
   ]
  },
  {
   "cell_type": "code",
   "execution_count": 42,
   "metadata": {},
   "outputs": [
    {
     "data": {
      "text/plain": [
       "<!DOCTYPE html>\n",
       "\n",
       "<html lang=\"ko\">\n",
       "<head>\n",
       "<script async=\"\" src=\"https://www.googletagmanager.com/gtag/js?id=G-GHX2SCRQS8\"></script>\n",
       "<script>\n",
       "    window.dataLayer = window.dataLayer || [];\n",
       "    function gtag(){dataLayer.push(arguments);}\n",
       "    gtag('js', new Date());\n",
       "    gtag('config', 'G-GHX2SCRQS8', { 'send_page_view': false });\n",
       "    gtag('config', 'UA-90020075-2', { 'send_page_view': false });\n",
       "  </script>\n",
       "<title>대학생 공모전 - 캠퍼스픽</title>\n",
       "<meta charset=\"utf-8\"/>\n",
       "<meta content=\"origin\" name=\"referrer\"/>\n",
       "<meta content=\"width=device-width,initial-scale=1.0,minimum-scale=1.0,maximum-scale=1.0,user-scalable=no\" name=\"viewport\"/>\n",
       "<meta content=\"IE=edge\" http-equiv=\"X-UA-Compatible\"/>\n",
       "<meta content=\"website\" property=\"og:type\"/>\n",
       "<meta content=\"캠퍼스픽\" property=\"og:site_name\"/>\n",
       "<meta content=\"대학생 공모전 - 캠퍼스픽\" property=\"og:title\"/>\n",
       "<meta content=\"모든 분야의 공모전 소식을 확인하고, 함께 참여할 대학생 팀원을 모집해보세요.\" property=\"og:description\"/>\n",
       "<meta content=\"https://www.campuspick.com/contest?category=108\" property=\"og:url\"/>\n",
       "<meta content=\"모든 분야의 공모전 소식을 확인하고, 함께 참여할 대학생 팀원을 모집해보세요.\" name=\"description\"/>\n",
       "<meta content=\"l_bpc8htkSqBgQBQBV-2Wn01hauHyFyxO9-sUML1bac\" name=\"google-site-verification\"/>\n",
       "<meta content=\"c24ea6d1a8799a59c80f6a53f837954d5b253d7a\" name=\"naver-site-verification\"/>\n",
       "<meta content=\"#1dcdff\" name=\"theme-color\">\n",
       "<link href=\"/favicon.ico\" rel=\"shortcut icon\"/>\n",
       "<link href=\"/css/common.css\" rel=\"stylesheet\" type=\"text/css\"/>\n",
       "<link href=\"/css/activity.index.css\" rel=\"stylesheet\" type=\"text/css\"/>\n",
       "<script src=\"/js/jquery-3.1.1.min.js\" type=\"text/javascript\"></script>\n",
       "<script src=\"/js/underscore-min.js\" type=\"text/javascript\"></script>\n",
       "<script src=\"/js/common.js\" type=\"text/javascript\"></script>\n",
       "<script src=\"/js/activity.index.js\" type=\"text/javascript\"></script>\n",
       "</meta></head>\n",
       "<body>\n",
       "<header>\n",
       "<div class=\"wrap\">\n",
       "<a class=\"logo\" href=\"/\">캠퍼스픽 - 대학생 SNS</a>\n",
       "<div class=\"account\">\n",
       "<a class=\"blue\" href=\"/login\">로그인</a>\n",
       "<a class=\"white\" href=\"/login\">회원가입</a>\n",
       "</div>\n",
       "<nav>\n",
       "<a href=\"/\">홈</a>\n",
       "<a href=\"/community\">커뮤니티</a>\n",
       "<a href=\"/club\">동아리</a>\n",
       "<a href=\"/activity\">대외활동</a>\n",
       "<a class=\"active\" href=\"/contest\">공모전</a>\n",
       "<a href=\"/study\">스터디</a>\n",
       "<a href=\"/job\">취업정보</a>\n",
       "<a href=\"/event\">이벤트</a>\n",
       "<a href=\"/manager\">게시요청</a>\n",
       "</nav>\n",
       "</div>\n",
       "</header>\n",
       "<section class=\"search\">\n",
       "<div class=\"wrap\">\n",
       "<form>\n",
       "<input autocomplete=\"off\" class=\"keyword\" name=\"keyword\" placeholder=\"찾으시는 공모전이 있나요?\" type=\"search\"/>\n",
       "<input class=\"submit\" type=\"submit\"/>\n",
       "</form>\n",
       "</div>\n",
       "</section>\n",
       "<section class=\"tab\">\n",
       "<div class=\"wrap\">\n",
       "<a href=\"/contest\"><span class=\"text\">전체</span></a>\n",
       "</div>\n",
       "</section>\n",
       "<div data-category=\"108\" data-keyword=\"\" data-target=\"1\" data-target-name=\"공모전\" data-target-path=\"contest\" id=\"container\"></div>\n",
       "<footer>\n",
       "<a class=\"copyright\" href=\"/\">© 캠퍼스픽</a>\n",
       "<a href=\"/page/serviceagreement\">이용약관</a>\n",
       "<a class=\"privacy\" href=\"/page/privacy\">개인정보처리방침</a>\n",
       "<a href=\"/page/rules\">커뮤니티이용규칙</a>\n",
       "<a href=\"/page/faq\">문의하기</a>\n",
       "</footer>\n",
       "<script type=\"text/javascript\">\n",
       "    var _isLogged = false;\n",
       "    var _appName = '';\n",
       "    var _appVersion = '';\n",
       "    var _osName = '';\n",
       "    var _pageView = '';\n",
       "    var _serverTime = 1674385730806;\n",
       "    var _clientTime = new Date().getTime();\n",
       "    var _diffTime = _clientTime - _serverTime;\n",
       "    var _apiServerUrl = \"https://api.campuspick.com\";\n",
       "    cp.fn.analytics.logPageView();\n",
       "  </script>\n",
       "</body>\n",
       "</html>"
      ]
     },
     "execution_count": 42,
     "metadata": {},
     "output_type": "execute_result"
    }
   ],
   "source": [
    "w_soup"
   ]
  },
  {
   "cell_type": "code",
   "execution_count": 51,
   "metadata": {},
   "outputs": [
    {
     "name": "stderr",
     "output_type": "stream",
     "text": [
      "<ipython-input-51-9e3dd39e2421>:13: DeprecationWarning: executable_path has been deprecated, please pass in a Service object\n",
      "  driver = wd.Chrome(executable_path=\"chromedriver.exe\")\n"
     ]
    }
   ],
   "source": [
    "# forbidden 해결\n",
    "\n",
    "from selenium import webdriver\n",
    "\n",
    "options = webdriver.ChromeOptions()\n",
    "#       options.add_argument('--headless')\n",
    "#       options.add_argument(\"--disable-extensions\")\n",
    "#       options.add_argument(\"disable-infobars\")\n",
    "#       options.add_argument(\"window-size=1920x1080\")\n",
    "options.add_argument(\"no-sandbox\")\n",
    "options.add_argument(\"disable-gpu\")\n",
    "options.add_argument(\"--lang=ko_KR\")\n",
    "options.add_argument('user-agent=Mozilla/5.0 (Macintosh; Intel Mac OS X 10_12_6) AppleWebKit/537.36 (KHTML, like Gecko) Chrome/61.0.3163.100 Safari/537.36')\n",
    "\n",
    "driver = wd.Chrome(executable_path=\"chromedriver.exe\")\n",
    "driver.get('https://www.campuspick.com/contest?category=108')"
   ]
  },
  {
   "cell_type": "code",
   "execution_count": 56,
   "metadata": {},
   "outputs": [
    {
     "ename": "InvalidArgumentException",
     "evalue": "Message: invalid argument: invalid locator\n  (Session info: chrome=109.0.5414.75)\nStacktrace:\nBacktrace:\n\t(No symbol) [0x011A6643]\n\t(No symbol) [0x0113BE21]\n\t(No symbol) [0x0103DA9D]\n\t(No symbol) [0x010713F3]\n\t(No symbol) [0x0107147B]\n\t(No symbol) [0x010A8DC2]\n\t(No symbol) [0x0108FDC4]\n\t(No symbol) [0x010A6B09]\n\t(No symbol) [0x0108FB76]\n\t(No symbol) [0x010649C1]\n\t(No symbol) [0x01065E5D]\n\tGetHandleVerifier [0x0141A142+2497106]\n\tGetHandleVerifier [0x014485D3+2686691]\n\tGetHandleVerifier [0x0144BB9C+2700460]\n\tGetHandleVerifier [0x01253B10+635936]\n\t(No symbol) [0x01144A1F]\n\t(No symbol) [0x0114A418]\n\t(No symbol) [0x0114A505]\n\t(No symbol) [0x0115508B]\n\tBaseThreadInitThunk [0x758B00F9+25]\n\tRtlGetAppContainerNamedObjectPath [0x774A7BBE+286]\n\tRtlGetAppContainerNamedObjectPath [0x774A7B8E+238]\n",
     "output_type": "error",
     "traceback": [
      "\u001b[1;31m---------------------------------------------------------------------------\u001b[0m",
      "\u001b[1;31mInvalidArgumentException\u001b[0m                  Traceback (most recent call last)",
      "\u001b[1;32m<ipython-input-56-2b207cca95d6>\u001b[0m in \u001b[0;36m<module>\u001b[1;34m\u001b[0m\n\u001b[0;32m      1\u001b[0m \u001b[1;32mfrom\u001b[0m \u001b[0mselenium\u001b[0m\u001b[1;33m.\u001b[0m\u001b[0mwebdriver\u001b[0m\u001b[1;33m.\u001b[0m\u001b[0mcommon\u001b[0m\u001b[1;33m.\u001b[0m\u001b[0mby\u001b[0m \u001b[1;32mimport\u001b[0m \u001b[0mBy\u001b[0m\u001b[1;33m\u001b[0m\u001b[1;33m\u001b[0m\u001b[0m\n\u001b[0;32m      2\u001b[0m \u001b[1;33m\u001b[0m\u001b[0m\n\u001b[1;32m----> 3\u001b[1;33m \u001b[0mtitle\u001b[0m \u001b[1;33m=\u001b[0m \u001b[0mdriver\u001b[0m\u001b[1;33m.\u001b[0m\u001b[0mfind_element\u001b[0m\u001b[1;33m(\u001b[0m\u001b[1;34m\"class\"\u001b[0m\u001b[1;33m,\u001b[0m \u001b[1;34m\"badges\"\u001b[0m\u001b[1;33m)\u001b[0m\u001b[1;33m\u001b[0m\u001b[1;33m\u001b[0m\u001b[0m\n\u001b[0m\u001b[0;32m      4\u001b[0m \u001b[0mtitle\u001b[0m\u001b[1;33m\u001b[0m\u001b[1;33m\u001b[0m\u001b[0m\n",
      "\u001b[1;32m~\\anaconda3\\lib\\site-packages\\selenium\\webdriver\\remote\\webdriver.py\u001b[0m in \u001b[0;36mfind_element\u001b[1;34m(self, by, value)\u001b[0m\n\u001b[0;32m    859\u001b[0m             \u001b[0mvalue\u001b[0m \u001b[1;33m=\u001b[0m \u001b[1;34m'[name=\"%s\"]'\u001b[0m \u001b[1;33m%\u001b[0m \u001b[0mvalue\u001b[0m\u001b[1;33m\u001b[0m\u001b[1;33m\u001b[0m\u001b[0m\n\u001b[0;32m    860\u001b[0m \u001b[1;33m\u001b[0m\u001b[0m\n\u001b[1;32m--> 861\u001b[1;33m         \u001b[1;32mreturn\u001b[0m \u001b[0mself\u001b[0m\u001b[1;33m.\u001b[0m\u001b[0mexecute\u001b[0m\u001b[1;33m(\u001b[0m\u001b[0mCommand\u001b[0m\u001b[1;33m.\u001b[0m\u001b[0mFIND_ELEMENT\u001b[0m\u001b[1;33m,\u001b[0m \u001b[1;33m{\u001b[0m\u001b[1;34m\"using\"\u001b[0m\u001b[1;33m:\u001b[0m \u001b[0mby\u001b[0m\u001b[1;33m,\u001b[0m \u001b[1;34m\"value\"\u001b[0m\u001b[1;33m:\u001b[0m \u001b[0mvalue\u001b[0m\u001b[1;33m}\u001b[0m\u001b[1;33m)\u001b[0m\u001b[1;33m[\u001b[0m\u001b[1;34m\"value\"\u001b[0m\u001b[1;33m]\u001b[0m\u001b[1;33m\u001b[0m\u001b[1;33m\u001b[0m\u001b[0m\n\u001b[0m\u001b[0;32m    862\u001b[0m \u001b[1;33m\u001b[0m\u001b[0m\n\u001b[0;32m    863\u001b[0m     \u001b[1;32mdef\u001b[0m \u001b[0mfind_elements\u001b[0m\u001b[1;33m(\u001b[0m\u001b[0mself\u001b[0m\u001b[1;33m,\u001b[0m \u001b[0mby\u001b[0m\u001b[1;33m=\u001b[0m\u001b[0mBy\u001b[0m\u001b[1;33m.\u001b[0m\u001b[0mID\u001b[0m\u001b[1;33m,\u001b[0m \u001b[0mvalue\u001b[0m\u001b[1;33m:\u001b[0m \u001b[0mOptional\u001b[0m\u001b[1;33m[\u001b[0m\u001b[0mstr\u001b[0m\u001b[1;33m]\u001b[0m \u001b[1;33m=\u001b[0m \u001b[1;32mNone\u001b[0m\u001b[1;33m)\u001b[0m \u001b[1;33m->\u001b[0m \u001b[0mList\u001b[0m\u001b[1;33m[\u001b[0m\u001b[0mWebElement\u001b[0m\u001b[1;33m]\u001b[0m\u001b[1;33m:\u001b[0m\u001b[1;33m\u001b[0m\u001b[1;33m\u001b[0m\u001b[0m\n",
      "\u001b[1;32m~\\anaconda3\\lib\\site-packages\\selenium\\webdriver\\remote\\webdriver.py\u001b[0m in \u001b[0;36mexecute\u001b[1;34m(self, driver_command, params)\u001b[0m\n\u001b[0;32m    442\u001b[0m         \u001b[0mresponse\u001b[0m \u001b[1;33m=\u001b[0m \u001b[0mself\u001b[0m\u001b[1;33m.\u001b[0m\u001b[0mcommand_executor\u001b[0m\u001b[1;33m.\u001b[0m\u001b[0mexecute\u001b[0m\u001b[1;33m(\u001b[0m\u001b[0mdriver_command\u001b[0m\u001b[1;33m,\u001b[0m \u001b[0mparams\u001b[0m\u001b[1;33m)\u001b[0m\u001b[1;33m\u001b[0m\u001b[1;33m\u001b[0m\u001b[0m\n\u001b[0;32m    443\u001b[0m         \u001b[1;32mif\u001b[0m \u001b[0mresponse\u001b[0m\u001b[1;33m:\u001b[0m\u001b[1;33m\u001b[0m\u001b[1;33m\u001b[0m\u001b[0m\n\u001b[1;32m--> 444\u001b[1;33m             \u001b[0mself\u001b[0m\u001b[1;33m.\u001b[0m\u001b[0merror_handler\u001b[0m\u001b[1;33m.\u001b[0m\u001b[0mcheck_response\u001b[0m\u001b[1;33m(\u001b[0m\u001b[0mresponse\u001b[0m\u001b[1;33m)\u001b[0m\u001b[1;33m\u001b[0m\u001b[1;33m\u001b[0m\u001b[0m\n\u001b[0m\u001b[0;32m    445\u001b[0m             \u001b[0mresponse\u001b[0m\u001b[1;33m[\u001b[0m\u001b[1;34m\"value\"\u001b[0m\u001b[1;33m]\u001b[0m \u001b[1;33m=\u001b[0m \u001b[0mself\u001b[0m\u001b[1;33m.\u001b[0m\u001b[0m_unwrap_value\u001b[0m\u001b[1;33m(\u001b[0m\u001b[0mresponse\u001b[0m\u001b[1;33m.\u001b[0m\u001b[0mget\u001b[0m\u001b[1;33m(\u001b[0m\u001b[1;34m\"value\"\u001b[0m\u001b[1;33m,\u001b[0m \u001b[1;32mNone\u001b[0m\u001b[1;33m)\u001b[0m\u001b[1;33m)\u001b[0m\u001b[1;33m\u001b[0m\u001b[1;33m\u001b[0m\u001b[0m\n\u001b[0;32m    446\u001b[0m             \u001b[1;32mreturn\u001b[0m \u001b[0mresponse\u001b[0m\u001b[1;33m\u001b[0m\u001b[1;33m\u001b[0m\u001b[0m\n",
      "\u001b[1;32m~\\anaconda3\\lib\\site-packages\\selenium\\webdriver\\remote\\errorhandler.py\u001b[0m in \u001b[0;36mcheck_response\u001b[1;34m(self, response)\u001b[0m\n\u001b[0;32m    247\u001b[0m                 \u001b[0malert_text\u001b[0m \u001b[1;33m=\u001b[0m \u001b[0mvalue\u001b[0m\u001b[1;33m[\u001b[0m\u001b[1;34m\"alert\"\u001b[0m\u001b[1;33m]\u001b[0m\u001b[1;33m.\u001b[0m\u001b[0mget\u001b[0m\u001b[1;33m(\u001b[0m\u001b[1;34m\"text\"\u001b[0m\u001b[1;33m)\u001b[0m\u001b[1;33m\u001b[0m\u001b[1;33m\u001b[0m\u001b[0m\n\u001b[0;32m    248\u001b[0m             \u001b[1;32mraise\u001b[0m \u001b[0mexception_class\u001b[0m\u001b[1;33m(\u001b[0m\u001b[0mmessage\u001b[0m\u001b[1;33m,\u001b[0m \u001b[0mscreen\u001b[0m\u001b[1;33m,\u001b[0m \u001b[0mstacktrace\u001b[0m\u001b[1;33m,\u001b[0m \u001b[0malert_text\u001b[0m\u001b[1;33m)\u001b[0m  \u001b[1;31m# type: ignore[call-arg]  # mypy is not smart enough here\u001b[0m\u001b[1;33m\u001b[0m\u001b[1;33m\u001b[0m\u001b[0m\n\u001b[1;32m--> 249\u001b[1;33m         \u001b[1;32mraise\u001b[0m \u001b[0mexception_class\u001b[0m\u001b[1;33m(\u001b[0m\u001b[0mmessage\u001b[0m\u001b[1;33m,\u001b[0m \u001b[0mscreen\u001b[0m\u001b[1;33m,\u001b[0m \u001b[0mstacktrace\u001b[0m\u001b[1;33m)\u001b[0m\u001b[1;33m\u001b[0m\u001b[1;33m\u001b[0m\u001b[0m\n\u001b[0m",
      "\u001b[1;31mInvalidArgumentException\u001b[0m: Message: invalid argument: invalid locator\n  (Session info: chrome=109.0.5414.75)\nStacktrace:\nBacktrace:\n\t(No symbol) [0x011A6643]\n\t(No symbol) [0x0113BE21]\n\t(No symbol) [0x0103DA9D]\n\t(No symbol) [0x010713F3]\n\t(No symbol) [0x0107147B]\n\t(No symbol) [0x010A8DC2]\n\t(No symbol) [0x0108FDC4]\n\t(No symbol) [0x010A6B09]\n\t(No symbol) [0x0108FB76]\n\t(No symbol) [0x010649C1]\n\t(No symbol) [0x01065E5D]\n\tGetHandleVerifier [0x0141A142+2497106]\n\tGetHandleVerifier [0x014485D3+2686691]\n\tGetHandleVerifier [0x0144BB9C+2700460]\n\tGetHandleVerifier [0x01253B10+635936]\n\t(No symbol) [0x01144A1F]\n\t(No symbol) [0x0114A418]\n\t(No symbol) [0x0114A505]\n\t(No symbol) [0x0115508B]\n\tBaseThreadInitThunk [0x758B00F9+25]\n\tRtlGetAppContainerNamedObjectPath [0x774A7BBE+286]\n\tRtlGetAppContainerNamedObjectPath [0x774A7B8E+238]\n"
     ]
    }
   ],
   "source": [
    "from selenium.webdriver.common.by import By\n",
    "\n",
    "title = driver.find_element(\"class\", \"badges\")\n",
    "title"
   ]
  },
  {
   "cell_type": "code",
   "execution_count": null,
   "metadata": {},
   "outputs": [],
   "source": []
  }
 ],
 "metadata": {
  "kernelspec": {
   "display_name": "Python 3",
   "language": "python",
   "name": "python3"
  },
  "language_info": {
   "codemirror_mode": {
    "name": "ipython",
    "version": 3
   },
   "file_extension": ".py",
   "mimetype": "text/x-python",
   "name": "python",
   "nbconvert_exporter": "python",
   "pygments_lexer": "ipython3",
   "version": "3.8.5"
  }
 },
 "nbformat": 4,
 "nbformat_minor": 4
}
